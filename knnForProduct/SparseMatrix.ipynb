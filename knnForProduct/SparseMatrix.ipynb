{
 "cells": [
  {
   "cell_type": "code",
   "execution_count": 11,
   "metadata": {},
   "outputs": [],
   "source": [
    "import numpy as np # linear algebra\n",
    "import pandas as pd\n",
    "customers = pd.read_csv('../../data/customers.csv')\n",
    "articles = pd.read_csv('../../data/articles.csv')\n",
    "transactions = pd.read_csv('../../data/transactions_train.csv')"
   ]
  },
  {
   "cell_type": "code",
   "execution_count": 12,
   "metadata": {},
   "outputs": [
    {
     "data": {
      "text/html": [
       "<div>\n",
       "<style scoped>\n",
       "    .dataframe tbody tr th:only-of-type {\n",
       "        vertical-align: middle;\n",
       "    }\n",
       "\n",
       "    .dataframe tbody tr th {\n",
       "        vertical-align: top;\n",
       "    }\n",
       "\n",
       "    .dataframe thead th {\n",
       "        text-align: right;\n",
       "    }\n",
       "</style>\n",
       "<table border=\"1\" class=\"dataframe\">\n",
       "  <thead>\n",
       "    <tr style=\"text-align: right;\">\n",
       "      <th></th>\n",
       "      <th>t_dat</th>\n",
       "      <th>customer_id</th>\n",
       "      <th>article_id</th>\n",
       "      <th>price</th>\n",
       "      <th>sales_channel_id</th>\n",
       "      <th>product_code</th>\n",
       "    </tr>\n",
       "  </thead>\n",
       "  <tbody>\n",
       "    <tr>\n",
       "      <th>0</th>\n",
       "      <td>2018-09-20</td>\n",
       "      <td>000058a12d5b43e67d225668fa1f8d618c13dc232df0ca...</td>\n",
       "      <td>663713001</td>\n",
       "      <td>0.050831</td>\n",
       "      <td>2</td>\n",
       "      <td>663713</td>\n",
       "    </tr>\n",
       "    <tr>\n",
       "      <th>1</th>\n",
       "      <td>2018-09-20</td>\n",
       "      <td>3681748607f3287d2c3a65e00bb5fb153de30e9becf158...</td>\n",
       "      <td>663713001</td>\n",
       "      <td>0.049475</td>\n",
       "      <td>2</td>\n",
       "      <td>663713</td>\n",
       "    </tr>\n",
       "    <tr>\n",
       "      <th>2</th>\n",
       "      <td>2018-09-20</td>\n",
       "      <td>4ef5967ff17bf474bffebe5b16bd54878e1d4105f7b4ed...</td>\n",
       "      <td>663713001</td>\n",
       "      <td>0.050831</td>\n",
       "      <td>2</td>\n",
       "      <td>663713</td>\n",
       "    </tr>\n",
       "    <tr>\n",
       "      <th>3</th>\n",
       "      <td>2018-09-20</td>\n",
       "      <td>6b7b10d2d47516c82a6f97332478dab748070f09693f09...</td>\n",
       "      <td>663713001</td>\n",
       "      <td>0.050831</td>\n",
       "      <td>1</td>\n",
       "      <td>663713</td>\n",
       "    </tr>\n",
       "    <tr>\n",
       "      <th>4</th>\n",
       "      <td>2018-09-20</td>\n",
       "      <td>8ac137752bbe914aa4ae6ad007a9a0c5b67a1ab2b2d474...</td>\n",
       "      <td>663713001</td>\n",
       "      <td>0.050831</td>\n",
       "      <td>2</td>\n",
       "      <td>663713</td>\n",
       "    </tr>\n",
       "  </tbody>\n",
       "</table>\n",
       "</div>"
      ],
      "text/plain": [
       "        t_dat                                        customer_id  article_id  \\\n",
       "0  2018-09-20  000058a12d5b43e67d225668fa1f8d618c13dc232df0ca...   663713001   \n",
       "1  2018-09-20  3681748607f3287d2c3a65e00bb5fb153de30e9becf158...   663713001   \n",
       "2  2018-09-20  4ef5967ff17bf474bffebe5b16bd54878e1d4105f7b4ed...   663713001   \n",
       "3  2018-09-20  6b7b10d2d47516c82a6f97332478dab748070f09693f09...   663713001   \n",
       "4  2018-09-20  8ac137752bbe914aa4ae6ad007a9a0c5b67a1ab2b2d474...   663713001   \n",
       "\n",
       "      price  sales_channel_id  product_code  \n",
       "0  0.050831                 2        663713  \n",
       "1  0.049475                 2        663713  \n",
       "2  0.050831                 2        663713  \n",
       "3  0.050831                 1        663713  \n",
       "4  0.050831                 2        663713  "
      ]
     },
     "execution_count": 12,
     "metadata": {},
     "output_type": "execute_result"
    }
   ],
   "source": [
    "ItemtoProduct=articles[['article_id','product_code']]\n",
    "transactions=pd.merge(transactions,ItemtoProduct,on='article_id')\n",
    "transactions.head()"
   ]
  },
  {
   "cell_type": "code",
   "execution_count": 14,
   "metadata": {},
   "outputs": [],
   "source": [
    "from sklearn.preprocessing import LabelEncoder\n",
    "\n",
    "ALL_USERS = customers['customer_id'].unique().tolist()\n",
    "ALL_ITEMS = articles['product_code'].unique().tolist()\n",
    "\n",
    "leUser = LabelEncoder().fit(ALL_USERS)\n",
    "transactions['user_id'] = leUser.transform(transactions['customer_id'])\n",
    "leItem = LabelEncoder().fit(ALL_ITEMS)\n",
    "transactions['product_id'] = leItem.transform(transactions['product_code'])"
   ]
  },
  {
   "cell_type": "code",
   "execution_count": 17,
   "metadata": {},
   "outputs": [],
   "source": [
    "from scipy.sparse import coo_matrix\n",
    "\n",
    "row = transactions['user_id'].values\n",
    "col = transactions['product_id'].values\n",
    "one = np.ones(transactions.shape[0])\n",
    "\n",
    "coo = coo_matrix((one, (row, col)), shape=(len(ALL_USERS), len(ALL_ITEMS)))"
   ]
  },
  {
   "cell_type": "code",
   "execution_count": 21,
   "metadata": {},
   "outputs": [],
   "source": [
    "import scipy.sparse\n",
    "csr = coo.tocsr()\n",
    "scipy.sparse.save_npz('product_sparse_matrix.npz', csr)"
   ]
  }
 ],
 "metadata": {
  "kernelspec": {
   "display_name": "base",
   "language": "python",
   "name": "python3"
  },
  "language_info": {
   "codemirror_mode": {
    "name": "ipython",
    "version": 3
   },
   "file_extension": ".py",
   "mimetype": "text/x-python",
   "name": "python",
   "nbconvert_exporter": "python",
   "pygments_lexer": "ipython3",
   "version": "3.10.9"
  },
  "orig_nbformat": 4
 },
 "nbformat": 4,
 "nbformat_minor": 2
}
